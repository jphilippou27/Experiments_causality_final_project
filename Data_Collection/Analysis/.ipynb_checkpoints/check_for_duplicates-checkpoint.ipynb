{
 "cells": [
  {
   "cell_type": "code",
   "execution_count": 1,
   "metadata": {
    "collapsed": true
   },
   "outputs": [],
   "source": [
    "from html.parser import HTMLParser\n",
    "from bs4 import BeautifulSoup\n",
    "import os\n",
    "import pandas as pd\n",
    "#import pickle"
   ]
  },
  {
   "cell_type": "code",
   "execution_count": 2,
   "metadata": {
    "collapsed": true
   },
   "outputs": [],
   "source": [
    "def check_for_duplicates(directory):\n",
    "    all_entries = {}\n",
    "    like_list = []\n",
    "    new_profile = []\n",
    "\n",
    "    #retrieve every record of a suitor from every profile#.html file\n",
    "    #like_list is a list in which each element is a list of the details of a suitor\n",
    "    for file in os.listdir(directory):\n",
    "        if file.endswith(\".html\"):\n",
    "            new_file_indicator = True\n",
    "            #file_list.append(os.path.join(directory, file))\n",
    "            profile = open(os.path.join(directory, file),'r',encoding='utf8',errors='ignore')\n",
    "            source_code = profile.read()\n",
    "            profile.close()\n",
    "            soup = BeautifulSoup(source_code, 'html.parser')\n",
    "            name_list = soup.find_all('span')\n",
    "            profile_image_counter = 0\n",
    "            background_images = {}\n",
    "            for a in name_list:\n",
    "                div_list = a.find_all('div')\n",
    "                for aa in div_list:\n",
    "                    keys = aa.attrs\n",
    "                    if \"style\" in keys:\n",
    "                        if \"background-image:\" in aa[\"style\"]:\n",
    "                            profile_image_counter += 1\n",
    "                            #split1 = aa[\"style\"].rpartition(\"/\")\n",
    "                            #split2 = split1[2].rpartition('\"')\n",
    "                            split1 = aa[\"style\"].partition('\"')\n",
    "                            split2 = split1[2].rpartition('\"')\n",
    "                            background_images[profile_image_counter] = split2[0]\n",
    "                        \n",
    "                keys = a.attrs\n",
    "                if \"class\" in keys:\n",
    "                    if new_file_indicator:\n",
    "                        if new_profile:\n",
    "                            like_list.append(new_profile)\n",
    "                            new_profile = []\n",
    "                        new_file_indicator = False\n",
    "                        profile_counter = 0\n",
    "                    if \"recCard__name\" in a[\"class\"]:\n",
    "                        like_list.append(new_profile)\n",
    "                        new_profile = [file]\n",
    "                        profile_counter += 1\n",
    "                        new_profile.append(profile_counter)\n",
    "                        if profile_counter in background_images.keys():\n",
    "                            new_profile.append(background_images[profile_counter])\n",
    "                        else:\n",
    "                            print(file)\n",
    "                            print(profile_counter)\n",
    "                            print(background_images)\n",
    "                            print()\n",
    "                            new_profile.append(float('nan'))\n",
    "                        new_profile.append(a.string)\n",
    "                    elif \"recCard__age\" in a[\"class\"]:\n",
    "                        if bool(a.string):\n",
    "                            new_profile.append(int(a.string[2:]))\n",
    "                        else:\n",
    "                            new_profile.append(a.string)\n",
    "                    elif \"Fz($ms)\" in a[\"class\"] or \" W(100%)\" in a[\"class\"] or \"D(b)\" in a[\"class\"]:\n",
    "                        new_profile.append(a.string)\n",
    "    if new_profile:\n",
    "        like_list.append(new_profile)\n",
    "\n",
    "    #organize all the records in like_list by filename\n",
    "    #all_entries is a dictionary that has the filename as its key and a list of entries from like_list as its value\n",
    "    profile_number = 'blah'\n",
    "    for b in like_list:\n",
    "        if b:\n",
    "            if b[0] != profile_number:\n",
    "                profile_number = b[0]\n",
    "                all_entries[profile_number] = []\n",
    "            all_entries[profile_number].append(b[1:])\n",
    "\n",
    "    #get the 2nd suitor record of each file\n",
    "    #suitor_list is the actual list of liked suitors\n",
    "    num_columns = 0\n",
    "    suitor_list = []\n",
    "    for c in all_entries:\n",
    "        suitor = [c]\n",
    "        suitor.extend(all_entries[c][1])\n",
    "        suitor_list.append(suitor)\n",
    "        if len(all_entries[c][1]) > num_columns:\n",
    "            num_columns = len(all_entries[c][1])\n",
    "\n",
    "    #make number of columns data dependent\n",
    "    columns = ['filename', 'file_position', 'profile_image','name', 'age']\n",
    "    detail_number = 1\n",
    "    while len(columns) <= num_columns:\n",
    "        columns.append('detail_' + str(detail_number))\n",
    "        detail_number += 1\n",
    "\n",
    "    suitor_df = pd.DataFrame(suitor_list,columns=columns)\n",
    "\n",
    "    #fill in missing values to enable counting of unique profiles\n",
    "    suitor_df = suitor_df.fillna('NO DATA')\n",
    "\n",
    "    #count the number of unique profiles\n",
    "    groupby_list = columns[2:]\n",
    "    unique_suitors = suitor_df.groupby(groupby_list)['filename'].count()\n",
    "\n",
    "    #record of profiles that appeared more than once during the run\n",
    "    duplicate_suitors = unique_suitors[unique_suitors>1]\n",
    "    \n",
    "    #return unique_suitors, duplicate_suitors, suitor_df, all_entries\n",
    "    return unique_suitors, duplicate_suitors"
   ]
  },
  {
   "cell_type": "code",
   "execution_count": 3,
   "metadata": {
    "collapsed": true
   },
   "outputs": [],
   "source": [
    "unique_suitors, duplicate_suitors = check_for_duplicates(os.getcwd())"
   ]
  },
  {
   "cell_type": "code",
   "execution_count": 4,
   "metadata": {
    "collapsed": false
   },
   "outputs": [
    {
     "data": {
      "text/plain": [
       "Series([], Name: filename, dtype: int64)"
      ]
     },
     "execution_count": 4,
     "metadata": {},
     "output_type": "execute_result"
    }
   ],
   "source": [
    "unique_suitors"
   ]
  }
 ],
 "metadata": {
  "anaconda-cloud": {},
  "kernelspec": {
   "display_name": "Python [conda env:MLpy]",
   "language": "python",
   "name": "conda-env-MLpy-py"
  },
  "language_info": {
   "codemirror_mode": {
    "name": "ipython",
    "version": 3
   },
   "file_extension": ".py",
   "mimetype": "text/x-python",
   "name": "python",
   "nbconvert_exporter": "python",
   "pygments_lexer": "ipython3",
   "version": "3.6.1"
  }
 },
 "nbformat": 4,
 "nbformat_minor": 2
}
